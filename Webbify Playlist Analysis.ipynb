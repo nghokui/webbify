{
 "cells": [
  {
   "cell_type": "code",
   "execution_count": 31,
   "metadata": {
    "collapsed": false
   },
   "outputs": [],
   "source": [
    "import os, csv\n",
    "import json\n",
    "import pandas as pd\n",
    "\n",
    "import spotipy.util as util\n",
    "import requests"
   ]
  },
  {
   "cell_type": "code",
   "execution_count": 2,
   "metadata": {
    "collapsed": false
   },
   "outputs": [],
   "source": [
    "with open('settings/webbify_credentials.txt', 'r') as tfile:\n",
    "    fileContents = tfile.read().split('\\n')\n",
    "    CLIENT_ID = fileContents[0].split(':')[1][1:]\n",
    "    CLIENT_SECRET = fileContents[1].split(':')[1][1:]"
   ]
  },
  {
   "cell_type": "code",
   "execution_count": 3,
   "metadata": {
    "collapsed": false
   },
   "outputs": [
    {
     "name": "stdout",
     "output_type": "stream",
     "text": [
      "\n",
      "\n",
      "            User authentication requires interaction with your\n",
      "            web browser. Once you enter your credentials and\n",
      "            give authorization, you will be redirected to\n",
      "            a url.  Paste that url you were directed to to\n",
      "            complete the authorization.\n",
      "\n",
      "        \n",
      "Opening https://accounts.spotify.com/authorize?redirect_uri=https%3A%2F%2Flocalhost%3A8888%2F&client_id=d5eba668c908462aa3183670fe307302&scope=user-read-recently-played&response_type=code in your browser\n",
      "\n",
      "\n",
      "Enter the URL you were redirected to: https://localhost:8888/?code=AQA8mWlEtyrDBQZ4Mi3zheb4L1CmoABIjXJ6fQTPUz0fCoyygoj-OpgwYo0K1liKQKXCMD0sbcyWqzeeXR-OYKY2IoyfsQPKsRK_lwKpqmw3MfhacpShBaQR4CbpQXSs5w9jZ4Ey-aSaFl1NbIxdLW1uGL1UmmZgf1gzyxOO1kI10gkHTWbQRGSMBB9vCSVDKgLvFf7RNfFpKM9B_ZdDU49otLT0DKuE\n",
      "\n",
      "\n"
     ]
    }
   ],
   "source": [
    "USERNAME = 'nghokui@gmail.com'\n",
    "TOKEN_CACHE = '.cache-{}'.format(USERNAME)\n",
    "if os.path.exists(TOKEN_CACHE):\n",
    "    os.remove(TOKEN_CACHE)\n",
    "\n",
    "    \n",
    "AUTH_ARGS = {\n",
    "    'client_id': CLIENT_ID,\n",
    "    'client_secret': CLIENT_SECRET,\n",
    "    'redirect_uri': 'https://localhost:8888/',\n",
    "    'scope': 'user-read-recently-played'\n",
    "}\n",
    "token = util.prompt_for_user_token(USERNAME, **AUTH_ARGS)"
   ]
  },
  {
   "cell_type": "code",
   "execution_count": 4,
   "metadata": {
    "collapsed": false
   },
   "outputs": [
    {
     "data": {
      "text/plain": [
       "{'display_name': 'Brian Ng',\n",
       " 'external_urls': {'spotify': 'https://open.spotify.com/user/nghokui'},\n",
       " 'followers': {'href': None, 'total': 20},\n",
       " 'href': 'https://api.spotify.com/v1/users/nghokui',\n",
       " 'id': 'nghokui',\n",
       " 'images': [{'height': None,\n",
       "   'url': 'https://scontent.xx.fbcdn.net/v/t31.0-1/c53.0.320.320a/p320x320/19956194_3497275234192_4181604532212724762_o.jpg?_nc_cat=107&_nc_oc=AQmEaKZZqmhvaRCa3S9ZmQLnxnbUIb5w1kCaBitsc_FIweIOjOa0W0RxoDJ3NqrEDjA&_nc_ht=scontent.xx&_nc_tp=1&oh=43c43280eaa41d901d1313468e77fdf2&oe=5EA63217',\n",
       "   'width': None}],\n",
       " 'type': 'user',\n",
       " 'uri': 'spotify:user:nghokui'}"
      ]
     },
     "execution_count": 4,
     "metadata": {},
     "output_type": "execute_result"
    }
   ],
   "source": [
    "URL_BASE = 'https://api.spotify.com'\n",
    "HEADERS = {'Authorization': 'Bearer {}'.format(token)}\n",
    "\n",
    "data = requests.get('{}/v1/me'.format(URL_BASE), headers=HEADERS)\n",
    "data.json()"
   ]
  },
  {
   "cell_type": "code",
   "execution_count": 8,
   "metadata": {
    "collapsed": false
   },
   "outputs": [],
   "source": [
    "PLAYLIST_URL_BASE = 'https://api.spotify.com/v1/playlists/{}'\n",
    "PLAYLIST_URI = '2PTEg5tENIOnT8b09Bb8IJ'\n",
    "\n",
    "TRACK_KEYS = {\n",
    "    'popularity': 'trackPopularity',\n",
    "    'duration_ms': 'trackDurationMS',\n",
    "    'explicit': 'trackExplicit',\n",
    "    'name': 'trackName',\n",
    "    'id': 'trackID'\n",
    "}\n",
    "ALBUM_KEYS = {\n",
    "    'album_type': 'albumType',\n",
    "    'release_date_precision': 'albumReleaseDatePrecision',\n",
    "    'total_tracks': 'albumTotalTracks',\n",
    "    'name': 'albumName',\n",
    "    'id': 'albumID',\n",
    "    'release_date': 'albumReleaseDate'\n",
    "}"
   ]
  },
  {
   "cell_type": "code",
   "execution_count": 11,
   "metadata": {
    "collapsed": true
   },
   "outputs": [],
   "source": [
    "def getPlaylistData(plistData, counterStart):\n",
    "    tData, counter = [], counterStart\n",
    "    for trackCt,i in enumerate(plistData['items']):\n",
    "        trackData = {\n",
    "            'added_at': i['added_at'],\n",
    "            'added_by': i['added_by']['id']\n",
    "        }\n",
    "\n",
    "        for tKey,tVal in i['track'].items():\n",
    "            trackKey = TRACK_KEYS.get(tKey, None)\n",
    "            if trackKey: trackData[trackKey] = tVal\n",
    "\n",
    "        for albKey,albVal in i['track']['album'].items():\n",
    "            albumKey = ALBUM_KEYS.get(albKey, None)\n",
    "            if albumKey: trackData[albumKey] = albVal\n",
    "\n",
    "        artistData = []\n",
    "        for artCt,artVal in enumerate(i['track']['artists']):\n",
    "            artistTrackData = trackData.copy()\n",
    "            artistTrackData['artistCt'] = artCt\n",
    "            artistTrackData['artistID'] = artVal['id']\n",
    "            artistTrackData['artistName'] = artVal['name']\n",
    "\n",
    "            tData.append(artistTrackData)\n",
    "        counter = counter + 1\n",
    "        \n",
    "    return (counter,tData)"
   ]
  },
  {
   "cell_type": "code",
   "execution_count": 12,
   "metadata": {
    "collapsed": false
   },
   "outputs": [
    {
     "name": "stdout",
     "output_type": "stream",
     "text": [
      "<Response [200]>\n",
      "Queried 682 unique tracks from playlist.\n"
     ]
    }
   ],
   "source": [
    "firstPass = True\n",
    "#nextURL = plistDataRaw['tracks']['next']\n",
    "\n",
    "spotifyRequest = requests.get(PLAYLIST_URL_BASE.format(PLAYLIST_URI), headers=HEADERS)\n",
    "\n",
    "if str(spotifyRequest) == '<Response [200]>':\n",
    "    rawSpotifyPlistData = spotifyRequest.json()['tracks']\n",
    "else:\n",
    "    rawSpotifyPlistData = None\n",
    "\n",
    "print(spotifyRequest)\n",
    "data,ct = [],1\n",
    "while rawSpotifyPlistData:\n",
    "    retrievedData = getPlaylistData(rawSpotifyPlistData, ct)\n",
    "    ct = retrievedData[0]\n",
    "    data = data + retrievedData[1]\n",
    "    \n",
    "    \n",
    "    if rawSpotifyPlistData['next']:\n",
    "        nextURI = rawSpotifyPlistData['next']\n",
    "        nextData = requests.get(nextURI, headers=HEADERS)\n",
    "        rawSpotifyPlistData = nextData.json()\n",
    "    else:\n",
    "        rawSpotifyPlistData = None\n",
    "        \n",
    "print('Queried {} unique tracks from playlist.'.format(ct))"
   ]
  },
  {
   "cell_type": "code",
   "execution_count": 32,
   "metadata": {
    "collapsed": false
   },
   "outputs": [],
   "source": [
    "keys = list(data[0].keys())\n",
    "tabularData = [['num'] + keys]\n",
    "\n",
    "for i,item in enumerate(data):\n",
    "    lineData = [item[j] for j in keys]\n",
    "    lineData = [i+1] + lineData\n",
    "    \n",
    "    tabularData.append(lineData)\n",
    "df = pd.DataFrame(tabularData)\n",
    "df.columns = df.iloc[0]\n",
    "df = df.drop(0, axis=0)\n",
    "\n",
    "\n",
    "# write it to csv\n",
    "fn = 'data/ThingsPlaylist.csv'\n",
    "df.to_csv(fn, sep='|', quoting=csv.QUOTE_NONNUMERIC, quotechar='`')"
   ]
  },
  {
   "cell_type": "code",
   "execution_count": null,
   "metadata": {
    "collapsed": false
   },
   "outputs": [],
   "source": []
  },
  {
   "cell_type": "code",
   "execution_count": null,
   "metadata": {
    "collapsed": false
   },
   "outputs": [],
   "source": []
  },
  {
   "cell_type": "code",
   "execution_count": null,
   "metadata": {
    "collapsed": false
   },
   "outputs": [],
   "source": [
    "for item in data[-81:]:\n",
    "    print(item['playlistNo'])"
   ]
  },
  {
   "cell_type": "code",
   "execution_count": null,
   "metadata": {
    "collapsed": true
   },
   "outputs": [],
   "source": []
  }
 ],
 "metadata": {
  "kernelspec": {
   "display_name": "Python 3",
   "language": "python",
   "name": "python3"
  },
  "language_info": {
   "codemirror_mode": {
    "name": "ipython",
    "version": 3
   },
   "file_extension": ".py",
   "mimetype": "text/x-python",
   "name": "python",
   "nbconvert_exporter": "python",
   "pygments_lexer": "ipython3",
   "version": "3.5.3"
  }
 },
 "nbformat": 4,
 "nbformat_minor": 2
}
