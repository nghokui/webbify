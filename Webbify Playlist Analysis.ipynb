{
 "cells": [
  {
   "cell_type": "code",
   "execution_count": 3,
   "metadata": {
    "collapsed": false
   },
   "outputs": [],
   "source": [
    "import os, csv, time\n",
    "import json\n",
    "import pandas as pd\n",
    "\n",
    "import requests\n",
    "import code.spcxn as sp"
   ]
  },
  {
   "cell_type": "code",
   "execution_count": 4,
   "metadata": {
    "collapsed": false
   },
   "outputs": [
    {
     "name": "stdout",
     "output_type": "stream",
     "text": [
      "\n",
      "\n",
      "            User authentication requires interaction with your\n",
      "            web browser. Once you enter your credentials and\n",
      "            give authorization, you will be redirected to\n",
      "            a url.  Paste that url you were directed to to\n",
      "            complete the authorization.\n",
      "\n",
      "        \n",
      "Opening https://accounts.spotify.com/authorize?client_id=d5eba668c908462aa3183670fe307302&redirect_uri=https%3A%2F%2Flocalhost%3A8888%2F&scope=playlist-read-private&response_type=code in your browser\n",
      "\n",
      "\n",
      "Enter the URL you were redirected to: https://localhost:8888/?code=AQDQ2kBwujVpmKhG9s-x_hupaqrU3SHQ8HzZzSW-XzhaZN_Ry25DcXNpGAq96koRF4pArAn7AJ-oXg9ZHATIkY1_ySeq4t19DxUg_4rBH8TQldXVAO6ACWAoeGwykQHT5UH7lJa0zt36zElH73EcQ43PBfHKZ2mlmAZYcgrec9a07IjNoakH_unk-r7i7zPDDUZhOYwpJ6c8iEBWfSVmfSKKbRE\n",
      "\n",
      "\n",
      "Token loaded successfully.\n"
     ]
    }
   ],
   "source": [
    "# Load token\n",
    "HEADER,TOKEN = sp.connectSpotify()"
   ]
  },
  {
   "cell_type": "code",
   "execution_count": 5,
   "metadata": {
    "collapsed": false
   },
   "outputs": [],
   "source": [
    "# Load playlist data\n",
    "PLAYLIST_URL_BASE = 'https://api.spotify.com/v1/playlists/{}'\n",
    "PLAYLIST_URI = '2PTEg5tENIOnT8b09Bb8IJ'\n",
    "\n",
    "TRACK_KEYS = {\n",
    "    'popularity': 'trackPopularity',\n",
    "    'duration_ms': 'trackDurationMS',\n",
    "    'explicit': 'trackExplicit',\n",
    "    'name': 'trackName',\n",
    "    'id': 'trackID'\n",
    "}\n",
    "ALBUM_KEYS = {\n",
    "    'album_type': 'albumType',\n",
    "    'release_date_precision': 'albumReleaseDatePrecision',\n",
    "    'total_tracks': 'albumTotalTracks',\n",
    "    'name': 'albumName',\n",
    "    'id': 'albumID',\n",
    "    'release_date': 'albumReleaseDate'\n",
    "}"
   ]
  },
  {
   "cell_type": "code",
   "execution_count": 6,
   "metadata": {
    "collapsed": true
   },
   "outputs": [],
   "source": [
    "def getPlaylistData(plistData, artistData, counterStart):\n",
    "    tData, counter = [], counterStart\n",
    "    for trackCt,i in enumerate(plistData['items']):\n",
    "        trackData = {\n",
    "            'added_at': i['added_at'],\n",
    "            'added_by': i['added_by']['id']\n",
    "        }\n",
    "\n",
    "        for tKey,tVal in i['track'].items():\n",
    "            trackKey = TRACK_KEYS.get(tKey, None)\n",
    "            if trackKey: trackData[trackKey] = tVal\n",
    "        trackID = trackData['trackID']\n",
    "        \n",
    "        for albKey,albVal in i['track']['album'].items():\n",
    "            albumKey = ALBUM_KEYS.get(albKey, None)\n",
    "            if albumKey: trackData[albumKey] = albVal\n",
    "        \n",
    "        tData.append(trackData)\n",
    "        \n",
    "        \n",
    "        for artCt,artVal in enumerate(i['track']['artists']):\n",
    "            artistData['trackID'].append(trackID)\n",
    "            artistData['artistNo'].append(artCt)\n",
    "            artistData['artistName'].append(artVal['name'])\n",
    "            artistData['artistID'].append(artVal['id'])\n",
    "\n",
    "            \n",
    "        counter = counter + 1\n",
    "        \n",
    "    return (counter,tData,artistData)"
   ]
  },
  {
   "cell_type": "code",
   "execution_count": 7,
   "metadata": {
    "collapsed": false
   },
   "outputs": [
    {
     "name": "stdout",
     "output_type": "stream",
     "text": [
      "<Response [200]>\n",
      "Queried 814 unique tracks from playlist.\n"
     ]
    }
   ],
   "source": [
    "firstPass = True\n",
    "#nextURL = plistDataRaw['tracks']['next']\n",
    "\n",
    "spotifyRequest = requests.get(PLAYLIST_URL_BASE.format(PLAYLIST_URI), headers=HEADER)\n",
    "\n",
    "if str(spotifyRequest) == '<Response [200]>':\n",
    "    rawSpotifyPlistData = spotifyRequest.json()['tracks']\n",
    "else:\n",
    "    rawSpotifyPlistData = None\n",
    "\n",
    "print(spotifyRequest)\n",
    "artistData = {\n",
    "    'trackID': [],\n",
    "    'artistNo': [],\n",
    "    'artistName': [],\n",
    "    'artistID': []\n",
    "}\n",
    "\n",
    "data,ct = [],1\n",
    "while rawSpotifyPlistData:\n",
    "    c,tdat,adat = getPlaylistData(rawSpotifyPlistData, artistData, ct)\n",
    "    ct = c\n",
    "    \n",
    "    # Add the track and artist data\n",
    "    data = data + tdat\n",
    "    artistData = adat.copy()\n",
    "    \n",
    "    \n",
    "    if rawSpotifyPlistData['next']:\n",
    "        nextURI = rawSpotifyPlistData['next']\n",
    "        nextData = requests.get(nextURI, headers=HEADER)\n",
    "        rawSpotifyPlistData = nextData.json()\n",
    "    else:\n",
    "        rawSpotifyPlistData = None\n",
    "        \n",
    "print('Queried {} unique tracks from playlist.'.format(ct))"
   ]
  },
  {
   "cell_type": "code",
   "execution_count": 8,
   "metadata": {
    "collapsed": false
   },
   "outputs": [],
   "source": [
    "keys = list(data[0].keys())\n",
    "tabularData = [['num'] + keys]\n",
    "\n",
    "for i,item in enumerate(data):\n",
    "    lineData = [item[j] for j in keys]\n",
    "    lineData = [i+1] + lineData\n",
    "    \n",
    "    tabularData.append(lineData)\n",
    "df = pd.DataFrame(tabularData)\n",
    "df.columns = df.iloc[0]\n",
    "df = df.drop(0, axis=0)\n",
    "\n",
    "\n",
    "# write it to csv\n",
    "fn = 'data/ThingsPlaylist.csv'\n",
    "df.to_csv(fn, sep='|', quoting=csv.QUOTE_NONNUMERIC, quotechar='`', index=False)"
   ]
  },
  {
   "cell_type": "code",
   "execution_count": 9,
   "metadata": {
    "collapsed": false
   },
   "outputs": [],
   "source": [
    "artistDF = pd.DataFrame(artistData)\n",
    "\n",
    "# write it to csv\n",
    "fn = 'data/ThingsPlaylist_Artists.csv'\n",
    "artistDF.to_csv(fn, sep='|', quoting=csv.QUOTE_NONNUMERIC, quotechar='`', index=False)"
   ]
  },
  {
   "cell_type": "code",
   "execution_count": 10,
   "metadata": {
    "collapsed": false
   },
   "outputs": [
    {
     "name": "stdout",
     "output_type": "stream",
     "text": [
      "Completed querying 25 records.\n",
      "Completed querying 50 records.\n",
      "Completed querying 75 records.\n",
      "Completed querying 100 records.\n",
      "Completed querying 125 records.\n",
      "Completed querying 150 records.\n",
      "Completed querying 175 records.\n",
      "Completed querying 200 records.\n",
      "Completed querying 225 records.\n",
      "Completed querying 250 records.\n",
      "Completed querying 275 records.\n",
      "Completed querying 300 records.\n",
      "Completed querying 325 records.\n",
      "Completed querying 350 records.\n",
      "Completed querying 375 records.\n",
      "Completed querying 400 records.\n",
      "Completed querying 425 records.\n",
      "Completed querying 450 records.\n",
      "Completed querying 475 records.\n",
      "Completed querying 500 records.\n",
      "Completed querying 525 records.\n",
      "Completed querying 550 records.\n",
      "Completed querying 575 records.\n",
      "Completed querying 600 records.\n",
      "Completed querying 625 records.\n",
      "Completed querying 650 records.\n"
     ]
    },
    {
     "data": {
      "text/html": [
       "<div>\n",
       "<style scoped>\n",
       "    .dataframe tbody tr th:only-of-type {\n",
       "        vertical-align: middle;\n",
       "    }\n",
       "\n",
       "    .dataframe tbody tr th {\n",
       "        vertical-align: top;\n",
       "    }\n",
       "\n",
       "    .dataframe thead th {\n",
       "        text-align: right;\n",
       "    }\n",
       "</style>\n",
       "<table border=\"1\" class=\"dataframe\">\n",
       "  <thead>\n",
       "    <tr style=\"text-align: right;\">\n",
       "      <th></th>\n",
       "      <th>artistID</th>\n",
       "      <th>genre</th>\n",
       "      <th>genreNo</th>\n",
       "    </tr>\n",
       "  </thead>\n",
       "  <tbody>\n",
       "    <tr>\n",
       "      <th>0</th>\n",
       "      <td>1Xyo4u8uXC1ZmMpatF05PJ</td>\n",
       "      <td>canadian contemporary r&amp;b</td>\n",
       "      <td>0</td>\n",
       "    </tr>\n",
       "    <tr>\n",
       "      <th>1</th>\n",
       "      <td>1Xyo4u8uXC1ZmMpatF05PJ</td>\n",
       "      <td>canadian pop</td>\n",
       "      <td>1</td>\n",
       "    </tr>\n",
       "    <tr>\n",
       "      <th>2</th>\n",
       "      <td>1Xyo4u8uXC1ZmMpatF05PJ</td>\n",
       "      <td>pop</td>\n",
       "      <td>2</td>\n",
       "    </tr>\n",
       "    <tr>\n",
       "      <th>3</th>\n",
       "      <td>4tZwfgrHOc3mvqYlEYSvVi</td>\n",
       "      <td>electro</td>\n",
       "      <td>0</td>\n",
       "    </tr>\n",
       "    <tr>\n",
       "      <th>4</th>\n",
       "      <td>4tZwfgrHOc3mvqYlEYSvVi</td>\n",
       "      <td>filter house</td>\n",
       "      <td>1</td>\n",
       "    </tr>\n",
       "    <tr>\n",
       "      <th>5</th>\n",
       "      <td>69GGBxA162lTqCwzJG5jLp</td>\n",
       "      <td>edm</td>\n",
       "      <td>0</td>\n",
       "    </tr>\n",
       "    <tr>\n",
       "      <th>6</th>\n",
       "      <td>69GGBxA162lTqCwzJG5jLp</td>\n",
       "      <td>electropop</td>\n",
       "      <td>1</td>\n",
       "    </tr>\n",
       "    <tr>\n",
       "      <th>7</th>\n",
       "      <td>69GGBxA162lTqCwzJG5jLp</td>\n",
       "      <td>pop</td>\n",
       "      <td>2</td>\n",
       "    </tr>\n",
       "    <tr>\n",
       "      <th>8</th>\n",
       "      <td>69GGBxA162lTqCwzJG5jLp</td>\n",
       "      <td>tropical house</td>\n",
       "      <td>3</td>\n",
       "    </tr>\n",
       "    <tr>\n",
       "      <th>9</th>\n",
       "      <td>26VFTg2z8YR0cCuwLzESi2</td>\n",
       "      <td>dance pop</td>\n",
       "      <td>0</td>\n",
       "    </tr>\n",
       "    <tr>\n",
       "      <th>10</th>\n",
       "      <td>26VFTg2z8YR0cCuwLzESi2</td>\n",
       "      <td>electropop</td>\n",
       "      <td>1</td>\n",
       "    </tr>\n",
       "    <tr>\n",
       "      <th>11</th>\n",
       "      <td>26VFTg2z8YR0cCuwLzESi2</td>\n",
       "      <td>etherpop</td>\n",
       "      <td>2</td>\n",
       "    </tr>\n",
       "    <tr>\n",
       "      <th>12</th>\n",
       "      <td>26VFTg2z8YR0cCuwLzESi2</td>\n",
       "      <td>indie poptimism</td>\n",
       "      <td>3</td>\n",
       "    </tr>\n",
       "    <tr>\n",
       "      <th>13</th>\n",
       "      <td>26VFTg2z8YR0cCuwLzESi2</td>\n",
       "      <td>pop</td>\n",
       "      <td>4</td>\n",
       "    </tr>\n",
       "    <tr>\n",
       "      <th>14</th>\n",
       "      <td>26VFTg2z8YR0cCuwLzESi2</td>\n",
       "      <td>post-teen pop</td>\n",
       "      <td>5</td>\n",
       "    </tr>\n",
       "  </tbody>\n",
       "</table>\n",
       "</div>"
      ],
      "text/plain": [
       "                  artistID                      genre  genreNo\n",
       "0   1Xyo4u8uXC1ZmMpatF05PJ  canadian contemporary r&b        0\n",
       "1   1Xyo4u8uXC1ZmMpatF05PJ               canadian pop        1\n",
       "2   1Xyo4u8uXC1ZmMpatF05PJ                        pop        2\n",
       "3   4tZwfgrHOc3mvqYlEYSvVi                    electro        0\n",
       "4   4tZwfgrHOc3mvqYlEYSvVi               filter house        1\n",
       "5   69GGBxA162lTqCwzJG5jLp                        edm        0\n",
       "6   69GGBxA162lTqCwzJG5jLp                 electropop        1\n",
       "7   69GGBxA162lTqCwzJG5jLp                        pop        2\n",
       "8   69GGBxA162lTqCwzJG5jLp             tropical house        3\n",
       "9   26VFTg2z8YR0cCuwLzESi2                  dance pop        0\n",
       "10  26VFTg2z8YR0cCuwLzESi2                 electropop        1\n",
       "11  26VFTg2z8YR0cCuwLzESi2                   etherpop        2\n",
       "12  26VFTg2z8YR0cCuwLzESi2            indie poptimism        3\n",
       "13  26VFTg2z8YR0cCuwLzESi2                        pop        4\n",
       "14  26VFTg2z8YR0cCuwLzESi2              post-teen pop        5"
      ]
     },
     "execution_count": 10,
     "metadata": {},
     "output_type": "execute_result"
    }
   ],
   "source": [
    "# Get the genre data\n",
    "ARTIST_URL = 'https://api.spotify.com/v1/artists/{}'\n",
    "\n",
    "genres = {\n",
    "    'artistID': [],\n",
    "    'genre': [],\n",
    "    'genreNo': []\n",
    "}\n",
    "for counter,aid in enumerate(list(artistDF['artistID'].unique())):\n",
    "    response = requests.get(ARTIST_URL.format(aid), headers=HEADER)\n",
    "    \n",
    "    if str(response) == '<Response [200]>':\n",
    "        for gno,g in enumerate(response.json()['genres']):\n",
    "            genres['artistID'].append(aid)\n",
    "            genres['genre'].append(g)\n",
    "            genres['genreNo'].append(gno)\n",
    "    else:\n",
    "        print('Error loading genres for artist: {}'.format(artistDF['artistName']))\n",
    "        \n",
    "    if (counter + 1) % 25 == 0:\n",
    "        print('Completed querying {} records.'.format(counter + 1))\n",
    "        \n",
    "    time.sleep(0.05)\n",
    "\n",
    "genreDF = pd.DataFrame(genres)\n",
    "genreDF.head(n=15)"
   ]
  },
  {
   "cell_type": "code",
   "execution_count": 11,
   "metadata": {
    "collapsed": false
   },
   "outputs": [],
   "source": [
    "fn = 'data/ThingsPlaylist_Genres.csv'\n",
    "genreDF.to_csv(fn, sep='|', quoting=csv.QUOTE_NONNUMERIC, quotechar='`', index=False)"
   ]
  },
  {
   "cell_type": "code",
   "execution_count": null,
   "metadata": {
    "collapsed": true
   },
   "outputs": [],
   "source": []
  }
 ],
 "metadata": {
  "kernelspec": {
   "display_name": "Python 3",
   "language": "python",
   "name": "python3"
  },
  "language_info": {
   "codemirror_mode": {
    "name": "ipython",
    "version": 3
   },
   "file_extension": ".py",
   "mimetype": "text/x-python",
   "name": "python",
   "nbconvert_exporter": "python",
   "pygments_lexer": "ipython3",
   "version": "3.5.3"
  }
 },
 "nbformat": 4,
 "nbformat_minor": 2
}
