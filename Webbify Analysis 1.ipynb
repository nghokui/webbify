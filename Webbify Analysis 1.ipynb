{
 "cells": [
  {
   "cell_type": "code",
   "execution_count": 1,
   "metadata": {
    "collapsed": true
   },
   "outputs": [],
   "source": [
    "import os\n",
    "import json\n",
    "\n",
    "import spotipy.util as util\n",
    "import requests"
   ]
  },
  {
   "cell_type": "code",
   "execution_count": 2,
   "metadata": {
    "collapsed": true
   },
   "outputs": [],
   "source": [
    "with open('settings/webbify_credentials.txt', 'r') as tfile:\n",
    "    fileContents = tfile.read().split('\\n')\n",
    "    CLIENT_ID = fileContents[0].split(':')[1][1:]\n",
    "    CLIENT_SECRET = fileContents[1].split(':')[1][1:]"
   ]
  },
  {
   "cell_type": "code",
   "execution_count": 93,
   "metadata": {
    "collapsed": false
   },
   "outputs": [
    {
     "name": "stdout",
     "output_type": "stream",
     "text": [
      "\n",
      "\n",
      "            User authentication requires interaction with your\n",
      "            web browser. Once you enter your credentials and\n",
      "            give authorization, you will be redirected to\n",
      "            a url.  Paste that url you were directed to to\n",
      "            complete the authorization.\n",
      "\n",
      "        \n",
      "Opened https://accounts.spotify.com/authorize?client_id=d5eba668c908462aa3183670fe307302&response_type=code&redirect_uri=https%3A%2F%2Flocalhost%3A8888%2F&scope=user-read-recently-played in your browser\n",
      "\n",
      "\n",
      "Enter the URL you were redirected to: https://localhost:8888/?code=AQDFxw_67Uv9ph8fmOFGEkwnjueBBFg09f-rvFtjFSiO6Hd99VbN6bOljtMmk0r1lEt1pqxFYuVqGWth_cPCIwsOTAUDLuwfAcOQlICBAAx-c0bMG2uS02FCAPTWpFP26zFnrwTj0Ww4BsM_wAEhTjD6sQSNUalpnBsdiEixLwFhi82R7ZTlKM5ZYxzqZtkQF3NWQLQCJnD-pJiUqGfS78BbSCZj4zO_\n",
      "\n",
      "\n"
     ]
    }
   ],
   "source": [
    "USERNAME = 'nghokui@gmail.com'\n",
    "TOKEN_CACHE = '.cache-{}'.format(USERNAME)\n",
    "if os.path.exists(TOKEN_CACHE):\n",
    "    os.remove(TOKEN_CACHE)\n",
    "\n",
    "    \n",
    "AUTH_ARGS = {\n",
    "    'client_id': CLIENT_ID,\n",
    "    'client_secret': CLIENT_SECRET,\n",
    "    'redirect_uri': 'https://localhost:8888/',\n",
    "    'scope': 'user-read-recently-played'\n",
    "}\n",
    "token = util.prompt_for_user_token(USERNAME, **AUTH_ARGS)"
   ]
  },
  {
   "cell_type": "code",
   "execution_count": 94,
   "metadata": {
    "collapsed": false
   },
   "outputs": [
    {
     "data": {
      "text/plain": [
       "{'display_name': 'Brian Ng',\n",
       " 'external_urls': {'spotify': 'https://open.spotify.com/user/nghokui'},\n",
       " 'followers': {'href': None, 'total': 20},\n",
       " 'href': 'https://api.spotify.com/v1/users/nghokui',\n",
       " 'id': 'nghokui',\n",
       " 'images': [{'height': None,\n",
       "   'url': 'https://scontent.xx.fbcdn.net/v/t31.0-1/c53.0.320.320a/p320x320/19956194_3497275234192_4181604532212724762_o.jpg?_nc_cat=107&_nc_ohc=SgkbROx5wqgAQk4NE0yipwiHHSuWlRjJfZzZfkQC7riEFblJ-g2UV1_rQ&_nc_ht=scontent.xx&oh=0f7aef9a4414bed54c3966b4b58e7c31&oe=5EA63217',\n",
       "   'width': None}],\n",
       " 'type': 'user',\n",
       " 'uri': 'spotify:user:nghokui'}"
      ]
     },
     "execution_count": 94,
     "metadata": {},
     "output_type": "execute_result"
    }
   ],
   "source": [
    "URL_BASE = 'https://api.spotify.com'\n",
    "HEADERS = {'Authorization': 'Bearer {}'.format(token)}\n",
    "\n",
    "data = requests.get('{}/v1/me'.format(URL_BASE), headers=HEADERS)\n",
    "data.json()"
   ]
  },
  {
   "cell_type": "code",
   "execution_count": 103,
   "metadata": {
    "collapsed": true
   },
   "outputs": [],
   "source": [
    "# Get a list of playlists\n",
    "URL_BASE = 'https://api.spotify.com/v1/users/{user_id}/playlists'\n",
    "HEADERS = {'Authorization': 'Bearer {}'.format(token)}\n",
    "\n",
    "data = requests.get(URL_BASE.format(user_id='nghokui'), headers=HEADERS, params={'limit': 50})\n",
    "\n",
    "# Load the data from the request\n",
    "playlistData = {}\n",
    "for item in data.json()['items']:\n",
    "    playlistData[item['name']] = {\n",
    "        'URI': item['uri'],\n",
    "        'Private': item['public'],\n",
    "        'TrackList': item['tracks']['href'],\n",
    "        'NumTracks': item['tracks']['total']\n",
    "    }"
   ]
  },
  {
   "cell_type": "code",
   "execution_count": 105,
   "metadata": {
    "collapsed": true
   },
   "outputs": [],
   "source": [
    "# Get the tracklist\n",
    "userID = 'nghokui'\n",
    "playlistName = 'things'\n",
    "plist = playlistData[playlistName]\n",
    "\n",
    "queryURL = plist['TrackList']\n",
    "continueRun = True\n",
    "\n",
    "playlistTracks = []\n",
    "while queryURL:\n",
    "    queryData = requests.get(queryURL, headers=HEADERS)\n",
    "    \n",
    "    if str(queryData) == '<Response [200]>':\n",
    "        data = queryData.json()\n",
    "        for item in data['items']:\n",
    "            trackItem = {}\n",
    "            \n",
    "            addedTime = item['added_at']\n",
    "            \n",
    "            trackInfo = item['track']\n",
    "            albumInfo = trackInfo['album']\n",
    "\n",
    "            trackItem = {\n",
    "                'id': trackInfo['id'],\n",
    "                'name': trackInfo['name'],\n",
    "                'popularity': trackInfo['popularity'],\n",
    "                'duration': trackInfo['duration_ms'],\n",
    "                'album': {\n",
    "                    'name': albumInfo['name'],\n",
    "                    'type': albumInfo['album_type'],\n",
    "                    'release': albumInfo['release_date'],\n",
    "                    'releasePrecision': albumInfo['release_date_precision'],\n",
    "                    'id': albumInfo['uri']\n",
    "                }\n",
    "            }\n",
    "            \n",
    "            artistData = []\n",
    "            artistInfo = trackInfo['artists']\n",
    "            for artist in artistInfo:\n",
    "                artistData.append((\n",
    "                    artist['name'],\n",
    "                    artist['type'],\n",
    "                    artist['uri']\n",
    "                ))\n",
    "            \n",
    "            trackItem['artist'] = artistData\n",
    "            \n",
    "            # Add track item\n",
    "            playlistTracks.append(trackItem)\n",
    "        queryURL = data['next']\n",
    "    else:\n",
    "        queryURL = None\n",
    "\n",
    "playlist = {\n",
    "    'meta': plist,\n",
    "    'data': None\n",
    "}\n",
    "playlist['data'] = playlistTracks\n",
    "with open('data/{}/playlists/{}_Tracklist.json'.format(userID, playlistName), 'w') as jfile:\n",
    "    json.dump(playlist, jfile)"
   ]
  },
  {
   "cell_type": "code",
   "execution_count": 106,
   "metadata": {
    "collapsed": false
   },
   "outputs": [
    {
     "data": {
      "text/plain": [
       "667"
      ]
     },
     "execution_count": 106,
     "metadata": {},
     "output_type": "execute_result"
    }
   ],
   "source": [
    "len(playlistTracks)"
   ]
  },
  {
   "cell_type": "markdown",
   "metadata": {},
   "source": [
    "General Info:\n",
    "1. Track url: https://api.spotify.com/v1/tracks/<track ID>"
   ]
  },
  {
   "cell_type": "code",
   "execution_count": 5,
   "metadata": {
    "collapsed": false
   },
   "outputs": [
    {
     "ename": "SyntaxError",
     "evalue": "invalid syntax (<ipython-input-5-7c13bd04474d>, line 5)",
     "output_type": "error",
     "traceback": [
      "\u001b[1;36m  File \u001b[1;32m\"<ipython-input-5-7c13bd04474d>\"\u001b[1;36m, line \u001b[1;32m5\u001b[0m\n\u001b[1;33m    data = requests.get('{}/v1/me/player/recently-played'.format(URL_BASE), headers=HEADERS, payload=)\u001b[0m\n\u001b[1;37m                                                                                                     ^\u001b[0m\n\u001b[1;31mSyntaxError\u001b[0m\u001b[1;31m:\u001b[0m invalid syntax\n"
     ]
    }
   ],
   "source": [
    "# Get recently played\n",
    "recentlyPlayedHeaders = HEADERS.copy()\n",
    "recentlyPlayedHeaders['limit'] = '50'\n",
    "\n",
    "data = requests.get('{}/v1/me/player/recently-played'.format(URL_BASE), headers=HEADERS, payload=)\n",
    "data.json()"
   ]
  },
  {
   "cell_type": "code",
   "execution_count": 20,
   "metadata": {
    "collapsed": false
   },
   "outputs": [
    {
     "name": "stdout",
     "output_type": "stream",
     "text": [
      "0 || ocean eyes - Recorded Live at Jungle City Studios || Alicia Keys || Spotify Singles || spotify:track:7rLokcIMP9p8fl0iROdVfC\n",
      "1 || ocean eyes - Recorded Live at Jungle City Studios || Alicia Keys || Spotify Singles || spotify:track:7rLokcIMP9p8fl0iROdVfC\n",
      "2 || ocean eyes - Recorded Live at Jungle City Studios || Alicia Keys || Spotify Singles || spotify:track:7rLokcIMP9p8fl0iROdVfC\n",
      "3 || ocean eyes - Recorded Live at Jungle City Studios || Alicia Keys || Spotify Singles || spotify:track:7rLokcIMP9p8fl0iROdVfC\n",
      "4 || ocean eyes - Recorded Live at Jungle City Studios || Alicia Keys || Spotify Singles || spotify:track:7rLokcIMP9p8fl0iROdVfC\n",
      "5 || ocean eyes - Recorded Live at Jungle City Studios || Alicia Keys || Spotify Singles || spotify:track:7rLokcIMP9p8fl0iROdVfC\n",
      "6 || Family || The Chainsmokers || World War Joy || spotify:track:3TKpJrY9q49Mj1JOsM9zGL\n",
      "7 || ocean eyes - Recorded Live at Jungle City Studios || Alicia Keys || Spotify Singles || spotify:track:7rLokcIMP9p8fl0iROdVfC\n",
      "8 || Finally // beautiful stranger || Halsey || Finally // beautiful stranger || spotify:track:5YvcUK2eXJ2OllqDuEg18S\n",
      "9 || Christmas Tree Farm || Taylor Swift || Christmas Tree Farm || spotify:track:2mvabkN1i2gLnGAPUVdwek\n",
      "10 || Rainbow || Kacey Musgraves || Golden Hour || spotify:track:79qxwHypONUt3AFq0WPpT9\n",
      "11 || Ain't It Fun || Paramore || Paramore || spotify:track:1j8z4TTjJ1YOdoFEDwJTQa\n",
      "12 || Mr. Brightside || The Killers || Hot Fuss || spotify:track:7oK9VyNzrYvRFo7nQEYkWN\n",
      "13 || thank u, next || Ariana Grande || thank u, next || spotify:track:3e9HZxeyfWwjeyPAMmWSSQ\n",
      "14 || Bestie (feat. Kodak Black) || Bhad Bhabie || Bestie (feat. Kodak Black) || spotify:track:0jtTDKt1FRTnKbWtWSGLoy\n",
      "15 || Wonder Woman Main Theme - Piano Version || Patrik Pietschmann || Wonder Woman Main Theme (Piano Version) || spotify:track:0CaUUYjaRn41FBwm1GYVCS\n",
      "16 || Aloy's Theme (feat. Julie Elven) - Part 1 - Motherland || Joris de Man || Horizon Zero Dawn (Original Soundtrack) || spotify:track:14Raww1VcizsEpQQpbEqbd\n",
      "17 || The Avengers Main Theme - Piano Version || Patrik Pietschmann || The Avengers Main Theme (Piano Version) || spotify:track:3RcoiHGZJQBynM9Pel5qjI\n",
      "18 || Davy Jones (From Pirates of the Caribbean 2) - Piano Version || Patrik Pietschmann || Davy Jones (From Pirates of the Caribbean 2) [Piano Version] || spotify:track:02o51002gqdUMH1DNMJH8m\n",
      "19 || Inner Light || Michael Salvatori || Destiny 2 (Original Soundtrack) || spotify:track:1EV1Q3P0kJMePXd6ZvJewV\n"
     ]
    },
    {
     "data": {
      "text/plain": [
       "'https://api.spotify.com/v1/me/player/recently-played?before=1575610712335'"
      ]
     },
     "execution_count": 20,
     "metadata": {},
     "output_type": "execute_result"
    }
   ],
   "source": [
    "for i,item in enumerate(data.json()['items']):\n",
    "    track = item['track']\n",
    "    \n",
    "    \n",
    "    tn = track['name']\n",
    "    tan = track['artists'][0]['name']\n",
    "    tal = track['album']['name']\n",
    "    tau = track['uri']\n",
    "    \n",
    "    print(i, '||', tn, '||', tan, '||', tal, '||', tau)\n",
    "\n",
    "data.json()['next']"
   ]
  },
  {
   "cell_type": "code",
   "execution_count": 21,
   "metadata": {
    "collapsed": false
   },
   "outputs": [
    {
     "ename": "AttributeError",
     "evalue": "'Response' object has no attribute 'response'",
     "output_type": "error",
     "traceback": [
      "\u001b[1;31m---------------------------------------------------------------------------\u001b[0m",
      "\u001b[1;31mAttributeError\u001b[0m                            Traceback (most recent call last)",
      "\u001b[1;32m<ipython-input-21-8be77c54fc0d>\u001b[0m in \u001b[0;36m<module>\u001b[1;34m\u001b[0m\n\u001b[0;32m      1\u001b[0m \u001b[0mdata\u001b[0m \u001b[1;33m=\u001b[0m \u001b[0mrequests\u001b[0m\u001b[1;33m.\u001b[0m\u001b[0mget\u001b[0m\u001b[1;33m(\u001b[0m\u001b[0mdata\u001b[0m\u001b[1;33m.\u001b[0m\u001b[0mjson\u001b[0m\u001b[1;33m(\u001b[0m\u001b[1;33m)\u001b[0m\u001b[1;33m[\u001b[0m\u001b[1;34m'next'\u001b[0m\u001b[1;33m]\u001b[0m\u001b[1;33m,\u001b[0m \u001b[0mheaders\u001b[0m\u001b[1;33m=\u001b[0m\u001b[0mrecentlyPlayedHeaders\u001b[0m\u001b[1;33m)\u001b[0m\u001b[1;33m\u001b[0m\u001b[1;33m\u001b[0m\u001b[0m\n\u001b[0;32m      2\u001b[0m \u001b[1;33m\u001b[0m\u001b[0m\n\u001b[1;32m----> 3\u001b[1;33m \u001b[0mdata\u001b[0m\u001b[1;33m.\u001b[0m\u001b[0mresponse\u001b[0m\u001b[1;33m\u001b[0m\u001b[1;33m\u001b[0m\u001b[0m\n\u001b[0m",
      "\u001b[1;31mAttributeError\u001b[0m: 'Response' object has no attribute 'response'"
     ]
    }
   ],
   "source": [
    "data = requests.get(data.json()['next'], headers=recentlyPlayedHeaders)"
   ]
  },
  {
   "cell_type": "code",
   "execution_count": 22,
   "metadata": {
    "collapsed": false
   },
   "outputs": [
    {
     "name": "stdout",
     "output_type": "stream",
     "text": [
      "0 || Dragonstone || Ramin Djawadi || Game Of Thrones: Season 7 (Music from the HBO Series) || spotify:track:65KG1BEtR85y2cvIaukuaO\n",
      "1 || Journey (feat. Kronos Quartet) || Michael Salvatori || Destiny 2 (Original Soundtrack) || spotify:track:5P68xT9dqkleXVVtdIJPXo\n",
      "2 || Dr. Ford || Ramin Djawadi || Westworld: Season 1 (Music from the HBO Series) || spotify:track:1pm8TqG9dNIcMGTQNzjYh9\n",
      "3 || Another Way || Clinton Shorter || The Expanse Season 3 (Original Television Soundtrack) || spotify:track:6Id2J66eXJCtiXLazbsh3K\n",
      "4 || The Expanse || Clinton Shorter || The Expanse (Original Television Soundtrack) || spotify:track:7FrCiWJbNiSbDNih6IzyAA\n",
      "5 || Hammerlock || Clinton Shorter || The Expanse Season 3 (Original Television Soundtrack) || spotify:track:1K9AzZIL0GNwxpT16bsOQp\n",
      "6 || Runaway || Ramin Djawadi || Westworld: Season 2 (Music From the HBO Series) || spotify:track:4NBYp73qsxFh9yUUnMy6jz\n",
      "7 || His Dark Materials (Main Title Theme) || Baltic House Orchestra || His Dark Materials (Main Title Theme) || spotify:track:3ChRK1ywcgVZ7FoOCjsgS4\n",
      "8 || Tron Legacy Main Theme - Piano Version || Patrik Pietschmann || Tron Legacy Main Theme (Piano Version) || spotify:track:2xvbah3rcABzE3bN7Upz5k\n",
      "9 || The Night King || Ramin Djawadi || Game Of Thrones: Season 8 (Music from the HBO Series) || spotify:track:1aDklx1GaBqHFowCzz63wU\n",
      "10 || The Proving (feat. Julie Elven & Cirlce Percussion) - Part 1 - Motherland || Joris de Man || Horizon Zero Dawn (Original Soundtrack) || spotify:track:4rP5OBh8Tfs67un1NmxAD2\n",
      "11 || Lost Light (feat. Kronos Quartet) || Michael Salvatori || Destiny 2 (Original Soundtrack) || spotify:track:6yEvR86RYnbTw1fG85Gzt5\n",
      "12 || Time (From \"Inception\") [Remake] - Piano Version || Patrik Pietschmann || Time (From \"Inception\") [Remake] [Piano Version] || spotify:track:6GG3mGhReBxKOWD3GIpOy8\n",
      "13 || The Dark Knight Main Theme - Piano Version || Patrik Pietschmann || The Dark Knight Main Theme (Piano Version) || spotify:track:7ABG9kZ1Ql4OW0LtEjIUbt\n",
      "14 || Sweetwater || Ramin Djawadi || Westworld: Season 1 (Music from the HBO Series) || spotify:track:6GnihxGXNy1CRiiNrsqYeM\n",
      "15 || Light of the Seven || Ramin Djawadi || Game Of Thrones: Season 6 (Music from the HBO Series) || spotify:track:1SbsbLsUMnAKWHx1zAV6ER\n",
      "16 || His Dark Materials (Main Title Theme) || Baltic House Orchestra || His Dark Materials (Main Title Theme) || spotify:track:3ChRK1ywcgVZ7FoOCjsgS4\n",
      "17 || The Expanse || Clinton Shorter || The Expanse (Original Television Soundtrack) || spotify:track:7FrCiWJbNiSbDNih6IzyAA\n",
      "18 || Hammerlock || Clinton Shorter || The Expanse Season 3 (Original Television Soundtrack) || spotify:track:1K9AzZIL0GNwxpT16bsOQp\n",
      "19 || Another Way || Clinton Shorter || The Expanse Season 3 (Original Television Soundtrack) || spotify:track:6Id2J66eXJCtiXLazbsh3K\n"
     ]
    },
    {
     "data": {
      "text/plain": [
       "'https://api.spotify.com/v1/me/player/recently-played?before=1575605877508'"
      ]
     },
     "execution_count": 22,
     "metadata": {},
     "output_type": "execute_result"
    }
   ],
   "source": [
    "for i,item in enumerate(data.json()['items']):\n",
    "    track = item['track']\n",
    "    \n",
    "    \n",
    "    tn = track['name']\n",
    "    tan = track['artists'][0]['name']\n",
    "    tal = track['album']['name']\n",
    "    tau = track['uri']\n",
    "    \n",
    "    print(i, '||', tn, '||', tan, '||', tal, '||', tau)\n",
    "\n",
    "data.json()['next']"
   ]
  },
  {
   "cell_type": "code",
   "execution_count": null,
   "metadata": {
    "collapsed": true
   },
   "outputs": [],
   "source": []
  }
 ],
 "metadata": {
  "kernelspec": {
   "display_name": "Python 3",
   "language": "python",
   "name": "python3"
  },
  "language_info": {
   "codemirror_mode": {
    "name": "ipython",
    "version": 3
   },
   "file_extension": ".py",
   "mimetype": "text/x-python",
   "name": "python",
   "nbconvert_exporter": "python",
   "pygments_lexer": "ipython3",
   "version": "3.5.3"
  },
  "varInspector": {
   "cols": {
    "lenName": 16,
    "lenType": 16,
    "lenVar": 40
   },
   "kernels_config": {
    "python": {
     "delete_cmd_postfix": "",
     "delete_cmd_prefix": "del ",
     "library": "var_list.py",
     "varRefreshCmd": "print(var_dic_list())"
    },
    "r": {
     "delete_cmd_postfix": ") ",
     "delete_cmd_prefix": "rm(",
     "library": "var_list.r",
     "varRefreshCmd": "cat(var_dic_list()) "
    }
   },
   "types_to_exclude": [
    "module",
    "function",
    "builtin_function_or_method",
    "instance",
    "_Feature"
   ],
   "window_display": false
  }
 },
 "nbformat": 4,
 "nbformat_minor": 2
}
