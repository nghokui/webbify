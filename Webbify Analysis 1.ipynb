{
 "cells": [
  {
   "cell_type": "code",
   "execution_count": 11,
   "metadata": {},
   "outputs": [],
   "source": [
    "import spotipy.util as util\n",
    "import requests"
   ]
  },
  {
   "cell_type": "code",
   "execution_count": 5,
   "metadata": {},
   "outputs": [],
   "source": [
    "with open('settings/webbify_credentials.txt', 'r') as tfile:\n",
    "    fileContents = tfile.read().split('\\n')\n",
    "    CLIENT_ID = fileContents[0].split(':')[1][1:]\n",
    "    CLIENT_SECRET = fileContents[1].split(':')[1][1:]\n",
    "    \n",
    "# Set environment variables\n",
    "AUTH_ARGS = {\n",
    "    'client_id': CLIENT_ID,\n",
    "    'client_secret': CLIENT_SECRET,\n",
    "    'redirect_uri': 'https://localhost:8888/'\n",
    "}"
   ]
  },
  {
   "cell_type": "code",
   "execution_count": 6,
   "metadata": {},
   "outputs": [
    {
     "name": "stdout",
     "output_type": "stream",
     "text": [
      "\n",
      "\n",
      "            User authentication requires interaction with your\n",
      "            web browser. Once you enter your credentials and\n",
      "            give authorization, you will be redirected to\n",
      "            a url.  Paste that url you were directed to to\n",
      "            complete the authorization.\n",
      "\n",
      "        \n",
      "Opened https://accounts.spotify.com/authorize?client_id=d5eba668c908462aa3183670fe307302&response_type=code&redirect_uri=https%3A%2F%2Flocalhost%3A8888%2F in your browser\n",
      "\n",
      "\n",
      "Enter the URL you were redirected to: https://localhost:8888/?code=AQCDp6CAV85RFbID9b72TUkOcfgU3QXuaNZMfiyGaYUuKtHIqWpUH23aeJoo3uqUkpQuJEPdZKqf823cdUOYr813DBSakeMG47KPrpcs7yVtEzCpL32DPsVhEjXVGE_PFYZ2KG9l95H3ibDidOyyrHwQH2KwLYVZYWpsX0vh8lU9nnue2lP6jch0syq6\n",
      "\n",
      "\n"
     ]
    },
    {
     "data": {
      "text/plain": [
       "'BQD8aMnGSabokpwro9lSzFEMtL0aJzjwmuK4y4Qh1T3oguZXhh31min7Z5d6zAHp4v2pyaE0b-dG59vFeYYUrUltbCF-GFrgDoKGcFyhvJ37BJvVaSAvez6KQ_hMs2qKHOZK_zzwx54MxA'"
      ]
     },
     "execution_count": 6,
     "metadata": {},
     "output_type": "execute_result"
    }
   ],
   "source": [
    "USERNAME = 'nghokui@gmail.com'\n",
    "token = util.prompt_for_user_token(USERNAME, [], **AUTH_ARGS)\n",
    "\n",
    "token"
   ]
  },
  {
   "cell_type": "code",
   "execution_count": 10,
   "metadata": {},
   "outputs": [
    {
     "name": "stdout",
     "output_type": "stream",
     "text": [
      "Piano & Soundtracks\n",
      "Piano\n",
      "PCPv\n",
      "pop punk rock\n",
      "things\n",
      "SWAMP ASS.\n",
      "BLACK PANTHER\n",
      "SYBIL YEAR 1 THROWBACK\n",
      "makin' me dance\n",
      "country\n",
      "drive\n",
      "OST Selects\n",
      "jazz selects\n",
      "GOTG Vol. 2\n",
      "RUN\n",
      "other things\n",
      "moombahton & co\n",
      "POP PUNK ROCK\n",
      "Top Songs 2016\n",
      "rap/hip-hop\n",
      "CALIFORNIA\n",
      "JAKUBI\n",
      "ANDERSON .PAAK\n",
      "MARGARET GLASPY\n",
      "ELÈNNE\n",
      "JOEY BADA$$\n",
      "MISTERWIVES\n",
      "ANA TIJOUX\n",
      "FILOUS\n",
      "THE INTERRUPTERS\n",
      "DIPLO COLLABS\n",
      "CATFISH AND THE BOTTLEMEN\n",
      "CARDIKNOX\n",
      "KYGO\n",
      "ST. LUCIA\n",
      "CHAOS CHAOS\n",
      "MACHINEHEART\n",
      "KANYE WEST\n",
      "CHANCE THE RAPPER\n",
      "RIA MAE\n",
      "YUNA\n",
      "MAJOR LAZER\n",
      "CHEAT CODES/CHAINSMOKERS/MATOMA\n",
      "SMALLPOOLS\n",
      "PVRIS\n"
     ]
    }
   ],
   "source": [
    "sp = spotipy.Spotify(auth=token)\n",
    "playlists = sp.user_playlists('nghokui')\n",
    "for playlist in playlists['items']:\n",
    "    if playlist['owner']['id'] == 'nghokui':\n",
    "        print(playlist['name'])"
   ]
  },
  {
   "cell_type": "code",
   "execution_count": 14,
   "metadata": {},
   "outputs": [
    {
     "data": {
      "text/plain": [
       "<Response [200]>"
      ]
     },
     "execution_count": 14,
     "metadata": {},
     "output_type": "execute_result"
    }
   ],
   "source": [
    "URL_BASE = 'https://api.spotify.com'\n",
    "HEADERS = {'Authorization': 'Bearer {}'.format(token)}\n",
    "\n",
    "data = requests.get('{}/v1/me'.format(URL_BASE), headers=HEADERS)\n",
    "data"
   ]
  },
  {
   "cell_type": "code",
   "execution_count": 17,
   "metadata": {},
   "outputs": [
    {
     "data": {
      "text/plain": [
       "{'display_name': 'Brian Ng',\n",
       " 'external_urls': {'spotify': 'https://open.spotify.com/user/nghokui'},\n",
       " 'followers': {'href': None, 'total': 20},\n",
       " 'href': 'https://api.spotify.com/v1/users/nghokui',\n",
       " 'id': 'nghokui',\n",
       " 'images': [{'height': None,\n",
       "   'url': 'https://scontent.xx.fbcdn.net/v/t1.0-1/c53.0.320.320a/p320x320/19756776_3497275234192_4181604532212724762_n.jpg?_nc_cat=107&_nc_ohc=g_rgJqe7764AQn_kHJf_uV5uvaa2THEmQ-_4hQmkjgXpgj1db7BlfPHpg&_nc_ht=scontent.xx&oh=9e3029f81d892164f886b92ab9e22660&oe=5E7F1464',\n",
       "   'width': None}],\n",
       " 'type': 'user',\n",
       " 'uri': 'spotify:user:nghokui'}"
      ]
     },
     "execution_count": 17,
     "metadata": {},
     "output_type": "execute_result"
    }
   ],
   "source": [
    "data.json()"
   ]
  },
  {
   "cell_type": "code",
   "execution_count": null,
   "metadata": {},
   "outputs": [],
   "source": []
  }
 ],
 "metadata": {
  "kernelspec": {
   "display_name": "Python 3",
   "language": "python",
   "name": "python3"
  },
  "varInspector": {
   "cols": {
    "lenName": 16,
    "lenType": 16,
    "lenVar": 40
   },
   "kernels_config": {
    "python": {
     "delete_cmd_postfix": "",
     "delete_cmd_prefix": "del ",
     "library": "var_list.py",
     "varRefreshCmd": "print(var_dic_list())"
    },
    "r": {
     "delete_cmd_postfix": ") ",
     "delete_cmd_prefix": "rm(",
     "library": "var_list.r",
     "varRefreshCmd": "cat(var_dic_list()) "
    }
   },
   "types_to_exclude": [
    "module",
    "function",
    "builtin_function_or_method",
    "instance",
    "_Feature"
   ],
   "window_display": false
  }
 },
 "nbformat": 4,
 "nbformat_minor": 2
}
